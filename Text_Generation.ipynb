{
  "nbformat": 4,
  "nbformat_minor": 0,
  "metadata": {
    "colab": {
      "name": "Text Generation.ipynb",
      "provenance": []
    },
    "kernelspec": {
      "name": "python3",
      "display_name": "Python 3"
    },
    "accelerator": "GPU"
  },
  "cells": [
    {
      "cell_type": "code",
      "metadata": {
        "id": "wLvhEmkRfKY8"
      },
      "source": [
        "%tensorflow_version 2.x"
      ],
      "execution_count": null,
      "outputs": []
    },
    {
      "cell_type": "code",
      "metadata": {
        "id": "msP4g6lXfSzj"
      },
      "source": [
        "import pandas as pd\r\n",
        "import numpy as np\r\n",
        "import matplotlib.pyplot as plt\r\n",
        "import tensorflow as tf"
      ],
      "execution_count": null,
      "outputs": []
    },
    {
      "cell_type": "code",
      "metadata": {
        "id": "IzFUjQsofidR"
      },
      "source": [
        "path = '/content/data.txt'"
      ],
      "execution_count": null,
      "outputs": []
    },
    {
      "cell_type": "code",
      "metadata": {
        "id": "smb6tv07ft_C"
      },
      "source": [
        "text = open(path, 'r').read()"
      ],
      "execution_count": null,
      "outputs": []
    },
    {
      "cell_type": "code",
      "metadata": {
        "colab": {
          "base_uri": "https://localhost:8080/"
        },
        "id": "G8x4Qj1bfzP_",
        "outputId": "db8532f7-e4c6-40d7-d965-c012539fd339"
      },
      "source": [
        "print(text[:300])"
      ],
      "execution_count": null,
      "outputs": [
        {
          "output_type": "stream",
          "text": [
            "/ \n",
            "\n",
            "\n",
            "\n",
            "\n",
            "THE BOY WHO LIVED \n",
            "\n",
            "Mr. and Mrs. Dursley, of number four, Privet Drive, \n",
            "were proud to say that they were perfectly normal, \n",
            "thank you very much. They were the last people you’d \n",
            "expect to be involved in anything strange or \n",
            "mysterious, because they just didn’t hold with such \n",
            "nonsense. \n",
            "\n",
            "Mr.\n"
          ],
          "name": "stdout"
        }
      ]
    },
    {
      "cell_type": "code",
      "metadata": {
        "colab": {
          "base_uri": "https://localhost:8080/"
        },
        "id": "YaFx_foKgR20",
        "outputId": "61e9b151-a191-40e0-e28c-71c6791d4c19"
      },
      "source": [
        "vocab = sorted(set(text))\r\n",
        "print(vocab)\r\n",
        "len(vocab)"
      ],
      "execution_count": null,
      "outputs": [
        {
          "output_type": "stream",
          "text": [
            "['\\n', ' ', '!', '\"', '%', \"'\", '(', ')', '*', ',', '-', '.', '/', '0', '1', '2', '3', '4', '5', '6', '7', '8', '9', ':', ';', '>', '?', 'A', 'B', 'C', 'D', 'E', 'F', 'G', 'H', 'I', 'J', 'K', 'L', 'M', 'N', 'O', 'P', 'Q', 'R', 'S', 'T', 'U', 'V', 'W', 'X', 'Y', 'Z', '\\\\', ']', 'a', 'b', 'c', 'd', 'e', 'f', 'g', 'h', 'i', 'j', 'k', 'l', 'm', 'n', 'o', 'p', 'q', 'r', 's', 't', 'u', 'v', 'w', 'x', 'y', 'z', '|', '~', '—', '‘', '’', '“', '”', '•', '■']\n"
          ],
          "name": "stdout"
        },
        {
          "output_type": "execute_result",
          "data": {
            "text/plain": [
              "90"
            ]
          },
          "metadata": {
            "tags": []
          },
          "execution_count": 6
        }
      ]
    },
    {
      "cell_type": "code",
      "metadata": {
        "id": "qr2UyZ0ygp33"
      },
      "source": [
        "idx_to_char = np.array(vocab)"
      ],
      "execution_count": null,
      "outputs": []
    },
    {
      "cell_type": "code",
      "metadata": {
        "colab": {
          "base_uri": "https://localhost:8080/",
          "height": 35
        },
        "id": "pZrWrnrZhBaA",
        "outputId": "6872e8ee-0856-4a8d-84e2-c9e9f22948e2"
      },
      "source": [
        "idx_to_char[50]"
      ],
      "execution_count": null,
      "outputs": [
        {
          "output_type": "execute_result",
          "data": {
            "application/vnd.google.colaboratory.intrinsic+json": {
              "type": "string"
            },
            "text/plain": [
              "'X'"
            ]
          },
          "metadata": {
            "tags": []
          },
          "execution_count": 8
        }
      ]
    },
    {
      "cell_type": "code",
      "metadata": {
        "id": "f5PEPrcPhEme"
      },
      "source": [
        "char_to_idx = {char:idx for idx,char in enumerate(vocab)}"
      ],
      "execution_count": null,
      "outputs": []
    },
    {
      "cell_type": "code",
      "metadata": {
        "colab": {
          "base_uri": "https://localhost:8080/"
        },
        "id": "apvAQi77hd_7",
        "outputId": "b647a39e-da89-4c37-af98-c733a6706f0b"
      },
      "source": [
        "char_to_idx['a']"
      ],
      "execution_count": null,
      "outputs": [
        {
          "output_type": "execute_result",
          "data": {
            "text/plain": [
              "55"
            ]
          },
          "metadata": {
            "tags": []
          },
          "execution_count": 10
        }
      ]
    },
    {
      "cell_type": "code",
      "metadata": {
        "id": "98Sscci_hgZ9"
      },
      "source": [
        "encoded_text = np.array([char_to_idx[c] for c in text])"
      ],
      "execution_count": null,
      "outputs": []
    },
    {
      "cell_type": "code",
      "metadata": {
        "colab": {
          "base_uri": "https://localhost:8080/"
        },
        "id": "4bPRPbyFh5-E",
        "outputId": "fbb3b0f2-053c-4078-df74-bad1dfd4c4d8"
      },
      "source": [
        "encoded_text.shape"
      ],
      "execution_count": null,
      "outputs": [
        {
          "output_type": "execute_result",
          "data": {
            "text/plain": [
              "(3035402,)"
            ]
          },
          "metadata": {
            "tags": []
          },
          "execution_count": 12
        }
      ]
    },
    {
      "cell_type": "code",
      "metadata": {
        "id": "U-m5pzLDiCOD",
        "colab": {
          "base_uri": "https://localhost:8080/",
          "height": 86
        },
        "outputId": "0af771f1-3c6f-4ca0-85aa-811dd90545aa"
      },
      "source": [
        "sample = text[:300]\r\n",
        "sample"
      ],
      "execution_count": null,
      "outputs": [
        {
          "output_type": "execute_result",
          "data": {
            "application/vnd.google.colaboratory.intrinsic+json": {
              "type": "string"
            },
            "text/plain": [
              "'/ \\n\\n\\n\\n\\nTHE BOY WHO LIVED \\n\\nMr. and Mrs. Dursley, of number four, Privet Drive, \\nwere proud to say that they were perfectly normal, \\nthank you very much. They were the last people you’d \\nexpect to be involved in anything strange or \\nmysterious, because they just didn’t hold with such \\nnonsense. \\n\\nMr.'"
            ]
          },
          "metadata": {
            "tags": []
          },
          "execution_count": 13
        }
      ]
    },
    {
      "cell_type": "code",
      "metadata": {
        "colab": {
          "base_uri": "https://localhost:8080/"
        },
        "id": "CTPOmu68AH-S",
        "outputId": "195f4be4-c364-48d3-d8af-d8460cfb4476"
      },
      "source": [
        "encoded_text[:300]"
      ],
      "execution_count": null,
      "outputs": [
        {
          "output_type": "execute_result",
          "data": {
            "text/plain": [
              "array([12,  1,  0,  0,  0,  0,  0, 46, 34, 31,  1, 28, 41, 51,  1, 49, 34,\n",
              "       41,  1, 38, 35, 48, 31, 30,  1,  0,  0, 39, 72, 11,  1, 55, 68, 58,\n",
              "        1, 39, 72, 73, 11,  1, 30, 75, 72, 73, 66, 59, 79,  9,  1, 69, 60,\n",
              "        1, 68, 75, 67, 56, 59, 72,  1, 60, 69, 75, 72,  9,  1, 42, 72, 63,\n",
              "       76, 59, 74,  1, 30, 72, 63, 76, 59,  9,  1,  0, 77, 59, 72, 59,  1,\n",
              "       70, 72, 69, 75, 58,  1, 74, 69,  1, 73, 55, 79,  1, 74, 62, 55, 74,\n",
              "        1, 74, 62, 59, 79,  1, 77, 59, 72, 59,  1, 70, 59, 72, 60, 59, 57,\n",
              "       74, 66, 79,  1, 68, 69, 72, 67, 55, 66,  9,  1,  0, 74, 62, 55, 68,\n",
              "       65,  1, 79, 69, 75,  1, 76, 59, 72, 79,  1, 67, 75, 57, 62, 11,  1,\n",
              "       46, 62, 59, 79,  1, 77, 59, 72, 59,  1, 74, 62, 59,  1, 66, 55, 73,\n",
              "       74,  1, 70, 59, 69, 70, 66, 59,  1, 79, 69, 75, 85, 58,  1,  0, 59,\n",
              "       78, 70, 59, 57, 74,  1, 74, 69,  1, 56, 59,  1, 63, 68, 76, 69, 66,\n",
              "       76, 59, 58,  1, 63, 68,  1, 55, 68, 79, 74, 62, 63, 68, 61,  1, 73,\n",
              "       74, 72, 55, 68, 61, 59,  1, 69, 72,  1,  0, 67, 79, 73, 74, 59, 72,\n",
              "       63, 69, 75, 73,  9,  1, 56, 59, 57, 55, 75, 73, 59,  1, 74, 62, 59,\n",
              "       79,  1, 64, 75, 73, 74,  1, 58, 63, 58, 68, 85, 74,  1, 62, 69, 66,\n",
              "       58,  1, 77, 63, 74, 62,  1, 73, 75, 57, 62,  1,  0, 68, 69, 68, 73,\n",
              "       59, 68, 73, 59, 11,  1,  0,  0, 39, 72, 11])"
            ]
          },
          "metadata": {
            "tags": []
          },
          "execution_count": 14
        }
      ]
    },
    {
      "cell_type": "code",
      "metadata": {
        "colab": {
          "base_uri": "https://localhost:8080/"
        },
        "id": "MWuavFJUAa3Z",
        "outputId": "996c8e9b-fe43-405c-fc35-213442884947"
      },
      "source": [
        "print(text[:200])"
      ],
      "execution_count": null,
      "outputs": [
        {
          "output_type": "stream",
          "text": [
            "/ \n",
            "\n",
            "\n",
            "\n",
            "\n",
            "THE BOY WHO LIVED \n",
            "\n",
            "Mr. and Mrs. Dursley, of number four, Privet Drive, \n",
            "were proud to say that they were perfectly normal, \n",
            "thank you very much. They were the last people you’d \n",
            "expect to be i\n"
          ],
          "name": "stdout"
        }
      ]
    },
    {
      "cell_type": "code",
      "metadata": {
        "id": "Fc1JIQP8A5dZ"
      },
      "source": [
        "lines = '''\r\n",
        "Mr. and Mrs. Dursley, of number four, Privet Drive, \r\n",
        "were proud to say that they were perfectly normal, \r\n",
        "thank you very much.\r\n",
        "'''"
      ],
      "execution_count": null,
      "outputs": []
    },
    {
      "cell_type": "code",
      "metadata": {
        "colab": {
          "base_uri": "https://localhost:8080/"
        },
        "id": "qfpTs5BgBOic",
        "outputId": "a578f23a-fb23-4422-979e-2a4ea94b7a8d"
      },
      "source": [
        "len(lines)"
      ],
      "execution_count": null,
      "outputs": [
        {
          "output_type": "execute_result",
          "data": {
            "text/plain": [
              "127"
            ]
          },
          "metadata": {
            "tags": []
          },
          "execution_count": 17
        }
      ]
    },
    {
      "cell_type": "code",
      "metadata": {
        "id": "Yp6T1_awBPl8"
      },
      "source": [
        "seq_len = 120"
      ],
      "execution_count": null,
      "outputs": []
    },
    {
      "cell_type": "code",
      "metadata": {
        "colab": {
          "base_uri": "https://localhost:8080/"
        },
        "id": "6tc_8gmiBaJO",
        "outputId": "1fe10a17-ed15-4e6c-d524-c9b84b4da7d2"
      },
      "source": [
        "total_num_seq = len(text) // (seq_len+1)\r\n",
        "total_num_seq"
      ],
      "execution_count": null,
      "outputs": [
        {
          "output_type": "execute_result",
          "data": {
            "text/plain": [
              "25085"
            ]
          },
          "metadata": {
            "tags": []
          },
          "execution_count": 19
        }
      ]
    },
    {
      "cell_type": "code",
      "metadata": {
        "id": "iqNwHg89Bpkp"
      },
      "source": [
        "char_dataset = tf.data.Dataset.from_tensor_slices(encoded_text)"
      ],
      "execution_count": null,
      "outputs": []
    },
    {
      "cell_type": "code",
      "metadata": {
        "colab": {
          "base_uri": "https://localhost:8080/"
        },
        "id": "UWqBndviCIOr",
        "outputId": "db7e20d1-1605-408e-c928-fe32fb2089da"
      },
      "source": [
        "for item in char_dataset.take(30):\r\n",
        "  print(idx_to_char[item.numpy()])"
      ],
      "execution_count": null,
      "outputs": [
        {
          "output_type": "stream",
          "text": [
            "/\n",
            " \n",
            "\n",
            "\n",
            "\n",
            "\n",
            "\n",
            "\n",
            "\n",
            "\n",
            "\n",
            "\n",
            "T\n",
            "H\n",
            "E\n",
            " \n",
            "B\n",
            "O\n",
            "Y\n",
            " \n",
            "W\n",
            "H\n",
            "O\n",
            " \n",
            "L\n",
            "I\n",
            "V\n",
            "E\n",
            "D\n",
            " \n",
            "\n",
            "\n",
            "\n",
            "\n",
            "M\n",
            "r\n",
            ".\n"
          ],
          "name": "stdout"
        }
      ]
    },
    {
      "cell_type": "code",
      "metadata": {
        "id": "jonyxBWcCPog"
      },
      "source": [
        "sequences = char_dataset.batch(seq_len+1, drop_remainder=True)"
      ],
      "execution_count": null,
      "outputs": []
    },
    {
      "cell_type": "code",
      "metadata": {
        "id": "d8HbE4fKCzxB"
      },
      "source": [
        "def seq_targets(seq):\r\n",
        "    input_txt = seq[:-1]\r\n",
        "    target_txt = seq[1:]\r\n",
        "    return input_txt, target_txt"
      ],
      "execution_count": null,
      "outputs": []
    },
    {
      "cell_type": "code",
      "metadata": {
        "id": "NW8catiaDSfo"
      },
      "source": [
        "dataset = sequences.map(seq_targets)"
      ],
      "execution_count": null,
      "outputs": []
    },
    {
      "cell_type": "code",
      "metadata": {
        "colab": {
          "base_uri": "https://localhost:8080/"
        },
        "id": "XdgkaAp3DkUh",
        "outputId": "530a9858-fd1d-4e93-9cee-1fd8531568f4"
      },
      "source": [
        "for input_text, target_text in dataset.take(1):\r\n",
        "  print(input_text.numpy())\r\n",
        "  print(''.join(idx_to_char[input_text.numpy()]))\r\n",
        "  print('\\n')\r\n",
        "  print(target_text.numpy())\r\n",
        "  print(''.join(idx_to_char[target_text.numpy()]))"
      ],
      "execution_count": null,
      "outputs": [
        {
          "output_type": "stream",
          "text": [
            "[12  1  0  0  0  0  0 46 34 31  1 28 41 51  1 49 34 41  1 38 35 48 31 30\n",
            "  1  0  0 39 72 11  1 55 68 58  1 39 72 73 11  1 30 75 72 73 66 59 79  9\n",
            "  1 69 60  1 68 75 67 56 59 72  1 60 69 75 72  9  1 42 72 63 76 59 74  1\n",
            " 30 72 63 76 59  9  1  0 77 59 72 59  1 70 72 69 75 58  1 74 69  1 73 55\n",
            " 79  1 74 62 55 74  1 74 62 59 79  1 77 59 72 59  1 70 59 72 60 59 57 74]\n",
            "/ \n",
            "\n",
            "\n",
            "\n",
            "\n",
            "THE BOY WHO LIVED \n",
            "\n",
            "Mr. and Mrs. Dursley, of number four, Privet Drive, \n",
            "were proud to say that they were perfect\n",
            "\n",
            "\n",
            "[ 1  0  0  0  0  0 46 34 31  1 28 41 51  1 49 34 41  1 38 35 48 31 30  1\n",
            "  0  0 39 72 11  1 55 68 58  1 39 72 73 11  1 30 75 72 73 66 59 79  9  1\n",
            " 69 60  1 68 75 67 56 59 72  1 60 69 75 72  9  1 42 72 63 76 59 74  1 30\n",
            " 72 63 76 59  9  1  0 77 59 72 59  1 70 72 69 75 58  1 74 69  1 73 55 79\n",
            "  1 74 62 55 74  1 74 62 59 79  1 77 59 72 59  1 70 59 72 60 59 57 74 66]\n",
            " \n",
            "\n",
            "\n",
            "\n",
            "\n",
            "THE BOY WHO LIVED \n",
            "\n",
            "Mr. and Mrs. Dursley, of number four, Privet Drive, \n",
            "were proud to say that they were perfectl\n"
          ],
          "name": "stdout"
        }
      ]
    },
    {
      "cell_type": "code",
      "metadata": {
        "id": "TMBpP4cgGNMI"
      },
      "source": [
        "batch_size = 128\r\n",
        "buffer_size = 10000\r\n",
        "dataset = dataset.shuffle(buffer_size).batch(batch_size, drop_remainder = True)"
      ],
      "execution_count": null,
      "outputs": []
    },
    {
      "cell_type": "code",
      "metadata": {
        "colab": {
          "base_uri": "https://localhost:8080/"
        },
        "id": "tycKXol_7rIb",
        "outputId": "53d28db0-07c4-46a2-b542-8e0488a8cea9"
      },
      "source": [
        "dataset"
      ],
      "execution_count": null,
      "outputs": [
        {
          "output_type": "execute_result",
          "data": {
            "text/plain": [
              "<BatchDataset shapes: ((128, 120), (128, 120)), types: (tf.int64, tf.int64)>"
            ]
          },
          "metadata": {
            "tags": []
          },
          "execution_count": 27
        }
      ]
    },
    {
      "cell_type": "code",
      "metadata": {
        "id": "VtDVflqeGkR_"
      },
      "source": [
        "vocab_size = len(vocab)\r\n",
        "embed_dims = 64\r\n",
        "rnn_neurons = 1026\r\n"
      ],
      "execution_count": null,
      "outputs": []
    },
    {
      "cell_type": "code",
      "metadata": {
        "id": "uHSvgIkV4Z4y"
      },
      "source": [
        "from tensorflow.keras.models import Sequential\r\n",
        "from tensorflow.keras.layers import Dense, Embedding, Dropout, LSTM, GRU"
      ],
      "execution_count": null,
      "outputs": []
    },
    {
      "cell_type": "code",
      "metadata": {
        "id": "QYCsdA3c4raI"
      },
      "source": [
        "from tensorflow.keras.losses import sparse_categorical_crossentropy"
      ],
      "execution_count": null,
      "outputs": []
    },
    {
      "cell_type": "code",
      "metadata": {
        "id": "cZ2f3ug44xt7"
      },
      "source": [
        "def sparse_categorical_loss(y_true, y_pred):\r\n",
        "  return sparse_categorical_crossentropy(y_true, y_pred, from_logits = True)"
      ],
      "execution_count": null,
      "outputs": []
    },
    {
      "cell_type": "code",
      "metadata": {
        "id": "PsnhrM9X4_-4"
      },
      "source": [
        "def create_model(vocab_size, embed_dims, rnn_neurons, batch_size):\r\n",
        "    model = Sequential()\r\n",
        "    model.add(Embedding(vocab_size, embed_dims,batch_input_shape=[batch_size, None]))\r\n",
        "    model.add(GRU(rnn_neurons,return_sequences=True,stateful=True,recurrent_initializer='glorot_uniform'))\r\n",
        "    # Final Dense Layer to Predict\r\n",
        "    model.add(Dense(vocab_size))\r\n",
        "    model.compile(optimizer='adam', loss=sparse_categorical_loss) \r\n",
        "    return model"
      ],
      "execution_count": null,
      "outputs": []
    },
    {
      "cell_type": "code",
      "metadata": {
        "id": "OltNSE8k6G-S"
      },
      "source": [
        "model = create_model(\r\n",
        "  vocab_size = vocab_size,\r\n",
        "  embed_dims=embed_dims,\r\n",
        "  rnn_neurons=rnn_neurons,\r\n",
        "  batch_size=batch_size)"
      ],
      "execution_count": null,
      "outputs": []
    },
    {
      "cell_type": "code",
      "metadata": {
        "colab": {
          "base_uri": "https://localhost:8080/"
        },
        "id": "DmwZW1SM6XlA",
        "outputId": "7afc323e-cdbe-4cf2-9120-5e2df5fefc0b"
      },
      "source": [
        "for input_example_batch, target_example_batch in dataset.take(1):\r\n",
        "\r\n",
        "  # Predict off some random batch\r\n",
        "  example_batch_predictions = model(input_example_batch)\r\n",
        "\r\n",
        "  # Display the dimensions of the predictions\r\n",
        "  print(example_batch_predictions.shape, \" <=== (batch_size, sequence_length, vocab_size)\")\r\n"
      ],
      "execution_count": null,
      "outputs": [
        {
          "output_type": "stream",
          "text": [
            "(128, 120, 90)  <=== (batch_size, sequence_length, vocab_size)\n"
          ],
          "name": "stdout"
        }
      ]
    },
    {
      "cell_type": "code",
      "metadata": {
        "colab": {
          "base_uri": "https://localhost:8080/"
        },
        "id": "-qSEr0AQ83ao",
        "outputId": "8e06f23a-e33e-47f8-ff6f-ace2cc886006"
      },
      "source": [
        "example_batch_predictions"
      ],
      "execution_count": null,
      "outputs": [
        {
          "output_type": "execute_result",
          "data": {
            "text/plain": [
              "<tf.Tensor: shape=(128, 120, 90), dtype=float32, numpy=\n",
              "array([[[-2.1172368e-03, -4.5779771e-03,  5.0322898e-04, ...,\n",
              "          9.5545768e-04,  6.3933537e-04,  3.7225502e-04],\n",
              "        [-1.0915010e-03, -1.4412240e-04,  6.3852202e-03, ...,\n",
              "          1.2895546e-03,  2.7415282e-03, -9.6708734e-04],\n",
              "        [ 2.8360088e-03, -3.4830242e-03,  9.0363137e-03, ...,\n",
              "          1.3672671e-03,  3.5391052e-03, -6.1468035e-03],\n",
              "        ...,\n",
              "        [-3.2644861e-03, -4.4015129e-03,  5.2577681e-03, ...,\n",
              "          7.3050633e-03,  1.1497852e-03, -6.2441346e-03],\n",
              "        [-4.7364095e-03, -5.9509035e-03,  2.7815457e-03, ...,\n",
              "          4.8519750e-03,  2.9720187e-03, -2.9612910e-03],\n",
              "        [-3.3826481e-03, -1.4672871e-04,  6.0097489e-04, ...,\n",
              "          8.1327762e-03,  4.1921493e-03, -3.2931687e-03]],\n",
              "\n",
              "       [[-2.1172368e-03, -4.5779771e-03,  5.0322898e-04, ...,\n",
              "          9.5545768e-04,  6.3933537e-04,  3.7225502e-04],\n",
              "        [-3.5738200e-04, -7.2045540e-03, -6.7974273e-03, ...,\n",
              "          7.9456717e-04, -3.4543588e-03, -1.6865119e-03],\n",
              "        [ 1.7411241e-03, -4.3700384e-03, -2.8209174e-03, ...,\n",
              "          6.9578211e-03, -3.0608813e-04, -4.9047661e-03],\n",
              "        ...,\n",
              "        [-1.2339256e-03,  8.0477390e-03, -6.0986485e-03, ...,\n",
              "          6.2658652e-03,  3.6858558e-03, -3.4900468e-03],\n",
              "        [ 4.6440735e-03,  2.1519170e-03,  1.8066210e-03, ...,\n",
              "          3.1892844e-03,  1.0090577e-03, -8.4330356e-03],\n",
              "        [-4.4040370e-04, -2.3779904e-03,  1.7841278e-03, ...,\n",
              "          5.5412985e-03, -1.6011037e-03, -4.9185520e-03]],\n",
              "\n",
              "       [[-2.5852763e-03,  6.2656188e-03, -4.6969354e-03, ...,\n",
              "          5.4857270e-03,  3.9752396e-03, -2.6478814e-03],\n",
              "        [-6.1055925e-04, -4.6955701e-03, -6.4603393e-03, ...,\n",
              "         -2.5477766e-03, -1.4727863e-03,  5.6197904e-03],\n",
              "        [ 1.0032738e-03, -9.0751955e-03, -1.6271626e-04, ...,\n",
              "         -8.0668656e-03, -4.6305219e-03, -3.1534533e-03],\n",
              "        ...,\n",
              "        [ 1.6734849e-03, -4.8883604e-03,  6.2647373e-03, ...,\n",
              "          5.0966190e-03,  3.3403134e-03, -7.5726239e-03],\n",
              "        [-4.5238975e-03, -9.4114104e-04,  7.9790978e-03, ...,\n",
              "          1.5336946e-02,  1.6936352e-03, -9.9534001e-03],\n",
              "        [-3.1928937e-03, -5.3841295e-04,  9.5338104e-03, ...,\n",
              "          5.8559421e-03,  9.4812624e-03, -5.5556512e-03]],\n",
              "\n",
              "       ...,\n",
              "\n",
              "       [[-2.1172368e-03, -4.5779771e-03,  5.0322898e-04, ...,\n",
              "          9.5545768e-04,  6.3933537e-04,  3.7225502e-04],\n",
              "        [ 4.3844245e-04, -6.6536809e-03, -3.2826292e-03, ...,\n",
              "         -6.3824775e-03,  2.5589466e-03,  1.6052604e-03],\n",
              "        [-1.8601900e-03, -7.3773088e-03, -5.6087202e-04, ...,\n",
              "         -1.1738620e-03,  2.0152680e-03,  1.1992385e-03],\n",
              "        ...,\n",
              "        [-1.1837012e-03,  4.1767089e-03,  3.3062506e-03, ...,\n",
              "          4.7437935e-03,  4.4202060e-03, -4.7592614e-03],\n",
              "        [-3.6917087e-03, -3.1708807e-03,  1.6757385e-03, ...,\n",
              "          4.2452859e-03,  2.2458481e-03, -3.0931470e-03],\n",
              "        [-3.5800980e-03, -1.0012403e-02,  2.7977761e-03, ...,\n",
              "         -6.0650762e-03,  5.1625762e-03, -2.8884546e-03]],\n",
              "\n",
              "       [[-2.1172368e-03, -4.5779771e-03,  5.0322898e-04, ...,\n",
              "          9.5545768e-04,  6.3933537e-04,  3.7225502e-04],\n",
              "        [-1.8494925e-03,  1.8550853e-03,  1.8781663e-03, ...,\n",
              "          2.5823237e-03,  8.4611960e-03, -4.2230384e-03],\n",
              "        [ 1.1471834e-03,  3.0005069e-03,  7.8554768e-03, ...,\n",
              "          5.1449360e-03,  1.1198770e-02, -9.6353060e-03],\n",
              "        ...,\n",
              "        [ 2.1333562e-03, -4.9622068e-03,  5.5875839e-04, ...,\n",
              "          7.8581814e-03,  9.9641108e-04, -7.2680633e-03],\n",
              "        [-3.5141194e-03, -5.8893627e-03,  3.9934218e-03, ...,\n",
              "          4.6983236e-03,  1.0980773e-03, -3.5704731e-03],\n",
              "        [ 3.5261206e-04,  1.3521623e-03,  9.6090287e-03, ...,\n",
              "          5.0748498e-03,  6.3335253e-03, -1.0133701e-02]],\n",
              "\n",
              "       [[ 3.6851910e-03, -1.9119122e-03,  4.5855837e-03, ...,\n",
              "          8.4357895e-04,  1.0878850e-03, -5.4524699e-03],\n",
              "        [-2.4178578e-03,  3.9385888e-04,  6.4537353e-03, ...,\n",
              "          1.2616442e-02, -1.3679150e-04, -8.4333885e-03],\n",
              "        [-1.4827789e-03,  6.1925035e-05,  8.3095171e-03, ...,\n",
              "          4.2632567e-03,  8.1970114e-03, -4.5550447e-03],\n",
              "        ...,\n",
              "        [-4.4132536e-03,  2.5056791e-04,  2.2614456e-03, ...,\n",
              "          3.1060653e-03, -5.1716585e-03, -4.9297544e-03],\n",
              "        [-6.1313836e-03, -3.6949646e-03,  2.3774272e-03, ...,\n",
              "          3.3262870e-03, -3.6861585e-04, -1.8818511e-03],\n",
              "        [-7.5411052e-03,  3.8178484e-03, -2.3382346e-03, ...,\n",
              "          7.7546127e-03,  6.1339075e-03, -3.1161723e-03]]], dtype=float32)>"
            ]
          },
          "metadata": {
            "tags": []
          },
          "execution_count": 35
        }
      ]
    },
    {
      "cell_type": "code",
      "metadata": {
        "id": "qNaQTQZ__rC1"
      },
      "source": [
        "sampled_indices = tf.random.categorical(example_batch_predictions[0], num_samples=1)"
      ],
      "execution_count": null,
      "outputs": []
    },
    {
      "cell_type": "code",
      "metadata": {
        "colab": {
          "base_uri": "https://localhost:8080/"
        },
        "id": "omUYlnhu_uSx",
        "outputId": "ee0a7d03-cf76-410f-84ed-80495814fad8"
      },
      "source": [
        "sampled_indices"
      ],
      "execution_count": null,
      "outputs": [
        {
          "output_type": "execute_result",
          "data": {
            "text/plain": [
              "<tf.Tensor: shape=(120, 1), dtype=int64, numpy=\n",
              "array([[48],\n",
              "       [54],\n",
              "       [83],\n",
              "       [ 9],\n",
              "       [ 4],\n",
              "       [37],\n",
              "       [ 3],\n",
              "       [83],\n",
              "       [25],\n",
              "       [36],\n",
              "       [ 1],\n",
              "       [81],\n",
              "       [40],\n",
              "       [58],\n",
              "       [58],\n",
              "       [70],\n",
              "       [87],\n",
              "       [30],\n",
              "       [67],\n",
              "       [ 2],\n",
              "       [85],\n",
              "       [46],\n",
              "       [30],\n",
              "       [80],\n",
              "       [45],\n",
              "       [47],\n",
              "       [26],\n",
              "       [50],\n",
              "       [44],\n",
              "       [34],\n",
              "       [20],\n",
              "       [53],\n",
              "       [36],\n",
              "       [67],\n",
              "       [87],\n",
              "       [26],\n",
              "       [ 5],\n",
              "       [14],\n",
              "       [21],\n",
              "       [80],\n",
              "       [42],\n",
              "       [54],\n",
              "       [64],\n",
              "       [52],\n",
              "       [46],\n",
              "       [56],\n",
              "       [31],\n",
              "       [59],\n",
              "       [31],\n",
              "       [29],\n",
              "       [78],\n",
              "       [67],\n",
              "       [58],\n",
              "       [78],\n",
              "       [46],\n",
              "       [71],\n",
              "       [69],\n",
              "       [11],\n",
              "       [60],\n",
              "       [44],\n",
              "       [83],\n",
              "       [46],\n",
              "       [15],\n",
              "       [49],\n",
              "       [87],\n",
              "       [65],\n",
              "       [55],\n",
              "       [71],\n",
              "       [56],\n",
              "       [78],\n",
              "       [82],\n",
              "       [80],\n",
              "       [50],\n",
              "       [ 8],\n",
              "       [10],\n",
              "       [ 7],\n",
              "       [11],\n",
              "       [ 0],\n",
              "       [78],\n",
              "       [38],\n",
              "       [49],\n",
              "       [21],\n",
              "       [82],\n",
              "       [44],\n",
              "       [49],\n",
              "       [ 0],\n",
              "       [35],\n",
              "       [88],\n",
              "       [ 4],\n",
              "       [47],\n",
              "       [ 7],\n",
              "       [75],\n",
              "       [35],\n",
              "       [83],\n",
              "       [79],\n",
              "       [74],\n",
              "       [32],\n",
              "       [61],\n",
              "       [85],\n",
              "       [34],\n",
              "       [17],\n",
              "       [13],\n",
              "       [36],\n",
              "       [87],\n",
              "       [59],\n",
              "       [11],\n",
              "       [80],\n",
              "       [65],\n",
              "       [23],\n",
              "       [77],\n",
              "       [57],\n",
              "       [20],\n",
              "       [28],\n",
              "       [62],\n",
              "       [47],\n",
              "       [22],\n",
              "       [36],\n",
              "       [49],\n",
              "       [33],\n",
              "       [79]])>"
            ]
          },
          "metadata": {
            "tags": []
          },
          "execution_count": 37
        }
      ]
    },
    {
      "cell_type": "code",
      "metadata": {
        "id": "IMg9w307_v7K"
      },
      "source": [
        "sampled_indices = tf.squeeze(sampled_indices,axis=-1).numpy()"
      ],
      "execution_count": null,
      "outputs": []
    },
    {
      "cell_type": "code",
      "metadata": {
        "colab": {
          "base_uri": "https://localhost:8080/"
        },
        "id": "bmyInY8__yWB",
        "outputId": "6fc89ff8-6309-48fc-8982-9bc4afb07760"
      },
      "source": [
        "sampled_indices"
      ],
      "execution_count": null,
      "outputs": [
        {
          "output_type": "execute_result",
          "data": {
            "text/plain": [
              "array([48, 54, 83,  9,  4, 37,  3, 83, 25, 36,  1, 81, 40, 58, 58, 70, 87,\n",
              "       30, 67,  2, 85, 46, 30, 80, 45, 47, 26, 50, 44, 34, 20, 53, 36, 67,\n",
              "       87, 26,  5, 14, 21, 80, 42, 54, 64, 52, 46, 56, 31, 59, 31, 29, 78,\n",
              "       67, 58, 78, 46, 71, 69, 11, 60, 44, 83, 46, 15, 49, 87, 65, 55, 71,\n",
              "       56, 78, 82, 80, 50,  8, 10,  7, 11,  0, 78, 38, 49, 21, 82, 44, 49,\n",
              "        0, 35, 88,  4, 47,  7, 75, 35, 83, 79, 74, 32, 61, 85, 34, 17, 13,\n",
              "       36, 87, 59, 11, 80, 65, 23, 77, 57, 20, 28, 62, 47, 22, 36, 49, 33,\n",
              "       79])"
            ]
          },
          "metadata": {
            "tags": []
          },
          "execution_count": 39
        }
      ]
    },
    {
      "cell_type": "code",
      "metadata": {
        "colab": {
          "base_uri": "https://localhost:8080/"
        },
        "id": "SeKxtp-Y_0Vq",
        "outputId": "0a4ae48f-33cb-4e72-d8c8-9e05f595adde"
      },
      "source": [
        "print(\"Given the input seq: \\n\")\r\n",
        "print(\"\".join(idx_to_char[input_example_batch[0]]))\r\n",
        "print('\\n')\r\n",
        "print(\"Next Char Predictions: \\n\")\r\n",
        "print(\"\".join(idx_to_char[sampled_indices ]))\r\n"
      ],
      "execution_count": null,
      "outputs": [
        {
          "output_type": "stream",
          "text": [
            "Given the input seq: \n",
            "\n",
            " feet. In his anger he seemed to fill \n",
            "the whole hut. The Dursleys were cowering against \n",
            "the wall. \n",
            "\n",
            "“Do you mean ter t\n",
            "\n",
            "\n",
            "Next Char Predictions: \n",
            "\n",
            "V]—,%K\"—>J |Nddp”Dm!’TDzSU?XRH7\\Jm”?'18zP]jZTbEeECxmdxTqo.fR—T2W”kaqbx~zX*-).\n",
            "xLW8~RW\n",
            "I•%U)uI—ytFg’H40J”e.zk:wc7BhU9JWGy\n"
          ],
          "name": "stdout"
        }
      ]
    },
    {
      "cell_type": "code",
      "metadata": {
        "id": "JPX8oxeP_2yQ"
      },
      "source": [
        "epochs = 30"
      ],
      "execution_count": null,
      "outputs": []
    },
    {
      "cell_type": "code",
      "metadata": {
        "colab": {
          "base_uri": "https://localhost:8080/"
        },
        "id": "sn0wVIIKAFg1",
        "outputId": "1fed306d-b450-4fbe-c2f3-76dd705ed20e"
      },
      "source": [
        "model.fit(dataset,epochs=epochs)"
      ],
      "execution_count": null,
      "outputs": [
        {
          "output_type": "stream",
          "text": [
            "Epoch 1/30\n",
            "195/195 [==============================] - 19s 86ms/step - loss: 3.3547\n",
            "Epoch 2/30\n",
            "195/195 [==============================] - 18s 85ms/step - loss: 2.0630\n",
            "Epoch 3/30\n",
            "195/195 [==============================] - 18s 85ms/step - loss: 1.6587\n",
            "Epoch 4/30\n",
            "195/195 [==============================] - 18s 85ms/step - loss: 1.4341\n",
            "Epoch 5/30\n",
            "195/195 [==============================] - 18s 85ms/step - loss: 1.3093\n",
            "Epoch 6/30\n",
            "195/195 [==============================] - 18s 85ms/step - loss: 1.2329\n",
            "Epoch 7/30\n",
            "195/195 [==============================] - 18s 85ms/step - loss: 1.1775\n",
            "Epoch 8/30\n",
            "195/195 [==============================] - 18s 86ms/step - loss: 1.1362\n",
            "Epoch 9/30\n",
            "195/195 [==============================] - 18s 85ms/step - loss: 1.0992\n",
            "Epoch 10/30\n",
            "195/195 [==============================] - 18s 85ms/step - loss: 1.0668\n",
            "Epoch 11/30\n",
            "195/195 [==============================] - 18s 85ms/step - loss: 1.0398\n",
            "Epoch 12/30\n",
            "195/195 [==============================] - 18s 85ms/step - loss: 1.0117\n",
            "Epoch 13/30\n",
            "195/195 [==============================] - 18s 85ms/step - loss: 0.9854\n",
            "Epoch 14/30\n",
            "195/195 [==============================] - 18s 85ms/step - loss: 0.9591\n",
            "Epoch 15/30\n",
            "195/195 [==============================] - 18s 85ms/step - loss: 0.9311\n",
            "Epoch 16/30\n",
            "195/195 [==============================] - 17s 84ms/step - loss: 0.9088\n",
            "Epoch 17/30\n",
            "195/195 [==============================] - 18s 85ms/step - loss: 0.8831\n",
            "Epoch 18/30\n",
            "195/195 [==============================] - 18s 85ms/step - loss: 0.8581\n",
            "Epoch 19/30\n",
            "195/195 [==============================] - 17s 84ms/step - loss: 0.8368\n",
            "Epoch 20/30\n",
            "195/195 [==============================] - 18s 85ms/step - loss: 0.8196\n",
            "Epoch 21/30\n",
            "195/195 [==============================] - 18s 85ms/step - loss: 0.7981\n",
            "Epoch 22/30\n",
            "195/195 [==============================] - 18s 85ms/step - loss: 0.7808\n",
            "Epoch 23/30\n",
            "195/195 [==============================] - 18s 84ms/step - loss: 0.7635\n",
            "Epoch 24/30\n",
            "195/195 [==============================] - 18s 85ms/step - loss: 0.7524\n",
            "Epoch 25/30\n",
            "195/195 [==============================] - 18s 85ms/step - loss: 0.7394\n",
            "Epoch 26/30\n",
            "195/195 [==============================] - 18s 86ms/step - loss: 0.7292\n",
            "Epoch 27/30\n",
            "195/195 [==============================] - 18s 86ms/step - loss: 0.7165\n",
            "Epoch 28/30\n",
            "195/195 [==============================] - 18s 86ms/step - loss: 0.7082\n",
            "Epoch 29/30\n",
            "195/195 [==============================] - 18s 85ms/step - loss: 0.7006\n",
            "Epoch 30/30\n",
            "195/195 [==============================] - 18s 86ms/step - loss: 0.6951\n"
          ],
          "name": "stdout"
        },
        {
          "output_type": "execute_result",
          "data": {
            "text/plain": [
              "<tensorflow.python.keras.callbacks.History at 0x7f2bc033d0f0>"
            ]
          },
          "metadata": {
            "tags": []
          },
          "execution_count": 42
        }
      ]
    },
    {
      "cell_type": "code",
      "metadata": {
        "id": "zjpftvBCAHct"
      },
      "source": [
        "model.save('text_generation.h5') "
      ],
      "execution_count": null,
      "outputs": []
    },
    {
      "cell_type": "code",
      "metadata": {
        "id": "Zlk-CPOpEGKH"
      },
      "source": [
        "from tensorflow.keras.models import load_model"
      ],
      "execution_count": null,
      "outputs": []
    },
    {
      "cell_type": "code",
      "metadata": {
        "id": "NvBGeXoVEJLg"
      },
      "source": [
        "model = create_model(vocab_size, embed_dims, rnn_neurons, batch_size=1)\r\n",
        "\r\n",
        "model.load_weights('text_generation.h5')\r\n",
        "\r\n",
        "model.build(tf.TensorShape([1, None]))\r\n"
      ],
      "execution_count": null,
      "outputs": []
    },
    {
      "cell_type": "code",
      "metadata": {
        "colab": {
          "base_uri": "https://localhost:8080/"
        },
        "id": "s9WBGEJUEMGu",
        "outputId": "94301f06-69c2-45af-8bae-d495f8172356"
      },
      "source": [
        "model.summary()"
      ],
      "execution_count": null,
      "outputs": [
        {
          "output_type": "stream",
          "text": [
            "Model: \"sequential_1\"\n",
            "_________________________________________________________________\n",
            "Layer (type)                 Output Shape              Param #   \n",
            "=================================================================\n",
            "embedding_1 (Embedding)      (1, None, 64)             5760      \n",
            "_________________________________________________________________\n",
            "gru_1 (GRU)                  (1, None, 1026)           3361176   \n",
            "_________________________________________________________________\n",
            "dense_1 (Dense)              (1, None, 90)             92430     \n",
            "=================================================================\n",
            "Total params: 3,459,366\n",
            "Trainable params: 3,459,366\n",
            "Non-trainable params: 0\n",
            "_________________________________________________________________\n"
          ],
          "name": "stdout"
        }
      ]
    },
    {
      "cell_type": "code",
      "metadata": {
        "id": "oTfILpPvERwa"
      },
      "source": [
        "def generate_text(model, start_seed,gen_size=100,temp=1.0):\r\n",
        "    num_generate = gen_size\r\n",
        "    input_eval = [char_to_idx[s] for s in start_seed]\r\n",
        "    input_eval = tf.expand_dims(input_eval, 0)\r\n",
        "    text_generated = []\r\n",
        "    temperature = temp\r\n",
        "    model.reset_states()\r\n",
        "    for i in range(num_generate):\r\n",
        "      predictions = model(input_eval)\r\n",
        "      predictions = tf.squeeze(predictions, 0)\r\n",
        "      predictions = predictions / temperature\r\n",
        "      predicted_id = tf.random.categorical(predictions, num_samples=1)[-1,0].numpy()\r\n",
        "      input_eval = tf.expand_dims([predicted_id], 0)\r\n",
        "      text_generated.append(idx_to_char[predicted_id])\r\n",
        "    return (start_seed + ''.join(text_generated))\r\n",
        "\r\n",
        "\r\n",
        "\r\n",
        "\r\n"
      ],
      "execution_count": null,
      "outputs": []
    },
    {
      "cell_type": "code",
      "metadata": {
        "colab": {
          "base_uri": "https://localhost:8080/"
        },
        "id": "YyjBjDXbFFfW",
        "outputId": "fd78f911-27ea-4991-939e-cb9205e3c5f1"
      },
      "source": [
        "print(generate_text(model,\"Yer a wizard Harry.\",gen_size=2000))"
      ],
      "execution_count": null,
      "outputs": [
        {
          "output_type": "stream",
          "text": [
            "Yer a wizard Harry. \n",
            "\n",
            "“You found it,” he snapped, still pink and fifty points from the fire, folded her hand utterly \n",
            "as Mr. Weasley were there, all of whom were \n",
            "clearly for what Hagrid meant you, exicy last year that you this too,” he said gently, people \n",
            "well my china. It was blind \n",
            "merely walking away back into King’s Cross \n",
            "with a huge mouth open front, Headmaster!” and already \n",
            "knocking it into Lockhart day. Fred and George had \n",
            "broken the Marauder’s Map wizards for funny \n",
            "they watched into the field. \n",
            "\n",
            "“They must not bl why seconds ... somebody get to \n",
            "Harry that Draco Malfoy would say he’d be daine, then.” \n",
            "\n",
            "Uncle Vernon set goarown on a shined \n",
            "you make you in the headmaster!” \n",
            "\n",
            "The hippogriff team was leaning away the mad his own wand \n",
            "at Harry, when Harry followed his nose against the jumpy \n",
            "clough he was worts ten familiar classigors and the schools, a \n",
            "changed pronounce he had over his head, which \n",
            "Harry stood hidden, because why he did?” \n",
            "\n",
            "While Malfoy rone off, as Harry’s broom and his life \n",
            "again, scratching his head out for “Fred and George hau \n",
            "cheerfuar,” muttered Seamus, who had \n",
            "potant \n",
            "crack, Harry snapped through it, took off his \n",
            "bed. As they watched the ked with excitement, \n",
            "Harry saw a silvery green cheek of a fire-right, he took Malfoy’s shakion, but Hermione fought to stand \n",
            "nearer, and Mr. Ollivander had finally looked up.” \n",
            "\n",
            "Harry saw that he was dracky has been stunned. How \n",
            "\n",
            "\n",
            "\n",
            "Mark is his hands and Harry spread the \n",
            "next morning with wind. \n",
            "\n",
            "“One doesn’t seem to who?” said Harry, gestirens. ...” \n",
            "\n",
            "Ron followed. \n",
            "\n",
            "They dathered at him once most faster, his head fell onto the door, \n",
            "and to the passageway open. At the end of thicks in \n",
            "barterd bed; its horn \n",
            "crowded and followed Harry, plumbing, towering \n",
            "heads and a computerizes of the desire black footsteps, outside he \n",
            "could slide poople her they didn’t miss a great wizard: fizzing nuise had given the \n",
            "oophers Stone - J.K. Rowling \n",
            "\n",
            "\n",
            "\n",
            "\n",
            "tide to cover up the steps into the cauldron, \n",
            "ghosts and dropped to\n"
          ],
          "name": "stdout"
        }
      ]
    },
    {
      "cell_type": "code",
      "metadata": {
        "id": "_8_eDx4GFWQW"
      },
      "source": [
        ""
      ],
      "execution_count": null,
      "outputs": []
    }
  ]
}